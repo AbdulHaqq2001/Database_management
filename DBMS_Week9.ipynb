{
  "nbformat": 4,
  "nbformat_minor": 0,
  "metadata": {
    "colab": {
      "provenance": [],
      "authorship_tag": "ABX9TyO/tnfeq9aJj97TjA5LOewd",
      "include_colab_link": true
    },
    "kernelspec": {
      "name": "python3",
      "display_name": "Python 3"
    },
    "language_info": {
      "name": "python"
    }
  },
  "cells": [
    {
      "cell_type": "markdown",
      "metadata": {
        "id": "view-in-github",
        "colab_type": "text"
      },
      "source": [
        "<a href=\"https://colab.research.google.com/github/AbdulHaqq2001/Database_management/blob/main/DBMS_Week9.ipynb\" target=\"_parent\"><img src=\"https://colab.research.google.com/assets/colab-badge.svg\" alt=\"Open In Colab\"/></a>"
      ]
    },
    {
      "cell_type": "code",
      "execution_count": 1,
      "metadata": {
        "colab": {
          "base_uri": "https://localhost:8080/"
        },
        "id": "b6YzFXww1iXx",
        "outputId": "2ec614ee-8036-497a-ded6-37266c546771"
      },
      "outputs": [
        {
          "output_type": "stream",
          "name": "stdout",
          "text": [
            "Requirement already satisfied: ipython-sql in /usr/local/lib/python3.10/dist-packages (0.5.0)\n",
            "Requirement already satisfied: prettytable in /usr/local/lib/python3.10/dist-packages (from ipython-sql) (3.9.0)\n",
            "Requirement already satisfied: ipython in /usr/local/lib/python3.10/dist-packages (from ipython-sql) (7.34.0)\n",
            "Requirement already satisfied: sqlalchemy>=2.0 in /usr/local/lib/python3.10/dist-packages (from ipython-sql) (2.0.22)\n",
            "Requirement already satisfied: sqlparse in /usr/local/lib/python3.10/dist-packages (from ipython-sql) (0.4.4)\n",
            "Requirement already satisfied: six in /usr/local/lib/python3.10/dist-packages (from ipython-sql) (1.16.0)\n",
            "Requirement already satisfied: ipython-genutils in /usr/local/lib/python3.10/dist-packages (from ipython-sql) (0.2.0)\n",
            "Requirement already satisfied: typing-extensions>=4.2.0 in /usr/local/lib/python3.10/dist-packages (from sqlalchemy>=2.0->ipython-sql) (4.5.0)\n",
            "Requirement already satisfied: greenlet!=0.4.17 in /usr/local/lib/python3.10/dist-packages (from sqlalchemy>=2.0->ipython-sql) (3.0.0)\n",
            "Requirement already satisfied: setuptools>=18.5 in /usr/local/lib/python3.10/dist-packages (from ipython->ipython-sql) (67.7.2)\n",
            "Collecting jedi>=0.16 (from ipython->ipython-sql)\n",
            "  Downloading jedi-0.19.1-py2.py3-none-any.whl (1.6 MB)\n",
            "\u001b[2K     \u001b[90m━━━━━━━━━━━━━━━━━━━━━━━━━━━━━━━━━━━━━━━━\u001b[0m \u001b[32m1.6/1.6 MB\u001b[0m \u001b[31m16.7 MB/s\u001b[0m eta \u001b[36m0:00:00\u001b[0m\n",
            "\u001b[?25hRequirement already satisfied: decorator in /usr/local/lib/python3.10/dist-packages (from ipython->ipython-sql) (4.4.2)\n",
            "Requirement already satisfied: pickleshare in /usr/local/lib/python3.10/dist-packages (from ipython->ipython-sql) (0.7.5)\n",
            "Requirement already satisfied: traitlets>=4.2 in /usr/local/lib/python3.10/dist-packages (from ipython->ipython-sql) (5.7.1)\n",
            "Requirement already satisfied: prompt-toolkit!=3.0.0,!=3.0.1,<3.1.0,>=2.0.0 in /usr/local/lib/python3.10/dist-packages (from ipython->ipython-sql) (3.0.39)\n",
            "Requirement already satisfied: pygments in /usr/local/lib/python3.10/dist-packages (from ipython->ipython-sql) (2.16.1)\n",
            "Requirement already satisfied: backcall in /usr/local/lib/python3.10/dist-packages (from ipython->ipython-sql) (0.2.0)\n",
            "Requirement already satisfied: matplotlib-inline in /usr/local/lib/python3.10/dist-packages (from ipython->ipython-sql) (0.1.6)\n",
            "Requirement already satisfied: pexpect>4.3 in /usr/local/lib/python3.10/dist-packages (from ipython->ipython-sql) (4.8.0)\n",
            "Requirement already satisfied: wcwidth in /usr/local/lib/python3.10/dist-packages (from prettytable->ipython-sql) (0.2.8)\n",
            "Requirement already satisfied: parso<0.9.0,>=0.8.3 in /usr/local/lib/python3.10/dist-packages (from jedi>=0.16->ipython->ipython-sql) (0.8.3)\n",
            "Requirement already satisfied: ptyprocess>=0.5 in /usr/local/lib/python3.10/dist-packages (from pexpect>4.3->ipython->ipython-sql) (0.7.0)\n",
            "Installing collected packages: jedi\n",
            "Successfully installed jedi-0.19.1\n"
          ]
        }
      ],
      "source": [
        "!pip install ipython-sql"
      ]
    },
    {
      "cell_type": "code",
      "source": [
        "import sqlite3\n",
        "import pandas as pd\n",
        "%load_ext sql"
      ],
      "metadata": {
        "id": "CX6Y61t74l-3"
      },
      "execution_count": 2,
      "outputs": []
    },
    {
      "cell_type": "code",
      "source": [
        "# Connect to SQLite database (or create it if it doesn’t exist)\n",
        "conn = sqlite3.connect('lab_session.db')\n",
        "c = conn.cursor()"
      ],
      "metadata": {
        "id": "ZPzARv_o4wMZ"
      },
      "execution_count": 4,
      "outputs": []
    },
    {
      "cell_type": "code",
      "source": [
        "import sqlite3\n",
        "\n",
        "# Create a SQLite database and a connection\n",
        "conn = sqlite3.connect(\"university.db\")\n",
        "c = conn.cursor()\n",
        "\n",
        "# Define SQL commands\n",
        "commands = [\n",
        "    \"\"\"\n",
        "    CREATE TABLE IF NOT EXISTS students (\n",
        "        student_id INTEGER PRIMARY KEY,\n",
        "        first_name TEXT,\n",
        "        last_name TEXT,\n",
        "        major TEXT\n",
        "    );\n",
        "    \"\"\",\n",
        "    \"\"\"\n",
        "    INSERT INTO students (first_name, last_name, major) VALUES (\"John\", \"Doe\", \"Computer Science\"),\n",
        "    (\"Jane\", \"Doe\", \"Mathematics\"), (\"Mike\", \"Jordan\", \"Physics\");\n",
        "    \"\"\",\n",
        "    \"\"\"\n",
        "    CREATE TABLE IF NOT EXISTS courses (\n",
        "        course_id INTEGER PRIMARY KEY,\n",
        "        course_name TEXT,\n",
        "        department_id INTEGER,\n",
        "        instructor_id INTEGER,\n",
        "        FOREIGN KEY (department_id) REFERENCES departments(department_id),\n",
        "        FOREIGN KEY (instructor_id) REFERENCES instructors(instructor_id)\n",
        "    );\n",
        "    \"\"\",\n",
        "    \"\"\"\n",
        "    INSERT INTO courses (course_name, department_id, instructor_id) VALUES (\"Database Systems\", 1, 1),\n",
        "    (\"Data Structures\", 1, 2), (\"Linear Algebra\", 2, 3),\n",
        "    (\"Quantum Mechanics\", 3, 4);\n",
        "    \"\"\",\n",
        "    \"\"\"\n",
        "    CREATE TABLE IF NOT EXISTS enrollments (\n",
        "        enrollment_id INTEGER PRIMARY KEY,\n",
        "        student_id INTEGER,\n",
        "        course_id INTEGER,\n",
        "        FOREIGN KEY (student_id) REFERENCES students(student_id),\n",
        "        FOREIGN KEY (course_id) REFERENCES courses(course_id)\n",
        "    );\n",
        "    \"\"\",\n",
        "    \"\"\"\n",
        "    INSERT INTO enrollments (student_id, course_id) VALUES (1, 1),\n",
        "    (1, 2), (2, 3), (3, 4);\n",
        "    \"\"\",\n",
        "    \"\"\"\n",
        "    CREATE TABLE IF NOT EXISTS instructors (\n",
        "        instructor_id INTEGER PRIMARY KEY,\n",
        "        first_name TEXT,\n",
        "        last_name TEXT,\n",
        "        department_id INTEGER,\n",
        "        FOREIGN KEY (department_id) REFERENCES departments(department_id)\n",
        "    );\n",
        "    \"\"\",\n",
        "    \"\"\"\n",
        "    INSERT INTO instructors (first_name, last_name, department_id)\n",
        "    VALUES (\"Robert\", \"Smith\", 1), (\"Susan\", \"Johnson\", 2),\n",
        "    (\"Michael\", \"Brown\", 3), (\"Elizabeth\", \"Taylor\", 4);\n",
        "    \"\"\",\n",
        "    \"\"\"\n",
        "    CREATE TABLE IF NOT EXISTS departments (\n",
        "        department_id INTEGER PRIMARY KEY,\n",
        "        department_name TEXT\n",
        "    );\n",
        "    \"\"\",\n",
        "    \"\"\"\n",
        "    INSERT INTO departments (department_name) VALUES (\"Computer Science\"),\n",
        "    (\"Mathematics\"), (\"Physics\"), (\"Chemistry\");\n",
        "    \"\"\"\n",
        "]\n",
        "\n",
        "# Execute SQL commands\n",
        "for command in commands:\n",
        "    c.executescript(command)\n",
        "\n",
        "# Commit changes and close connection\n",
        "conn.commit()\n",
        "conn.close()\n"
      ],
      "metadata": {
        "id": "AIntTYaH40uW"
      },
      "execution_count": 22,
      "outputs": []
    },
    {
      "cell_type": "code",
      "source": [
        "# Reconnect to the SQLite database with double quotation marks\n",
        "conn = sqlite3.connect('university.db')\n",
        "\n",
        "# Execute INNER JOIN query and visualize the result\n",
        "inner_join_query = \"\"\"\n",
        "SELECT students.first_name AS student_name, courses.course_name\n",
        "FROM students\n",
        "INNER JOIN enrollments ON students.student_id = enrollments.student_id\n",
        "INNER JOIN courses ON enrollments.course_id = courses.course_id;\n",
        "\"\"\"\n",
        "\n",
        "# Import the pandas library\n",
        "import pandas as pd\n",
        "\n",
        "# Read the query result into a DataFrame\n",
        "inner_join_df = pd.read_sql_query(inner_join_query, conn)\n",
        "\n",
        "# Print the DataFrame\n",
        "print(inner_join_df)\n",
        "\n",
        "# Close the database connection\n",
        "conn.close()\n"
      ],
      "metadata": {
        "colab": {
          "base_uri": "https://localhost:8080/"
        },
        "id": "MujPAu-15Mbd",
        "outputId": "7d4c8b02-1cb6-4252-c865-331ed2891536"
      },
      "execution_count": 8,
      "outputs": [
        {
          "output_type": "stream",
          "name": "stdout",
          "text": [
            "  student_name        course_name\n",
            "0         John   Database Systems\n",
            "1         John    Data Structures\n",
            "2         Jane     Linear Algebra\n",
            "3         Mike  Quantum Mechanics\n"
          ]
        }
      ]
    },
    {
      "cell_type": "code",
      "source": [
        "# Reconnect to the SQLite database\n",
        "conn = sqlite3.connect('university.db')\n",
        "\n",
        "# Define the emulated FULL JOIN query\n",
        "full_join_query_1 = \"\"\"\n",
        "WITH RECURSIVE full_join AS (\n",
        "    SELECT students.first_name AS student_name, courses.course_name\n",
        "    FROM students\n",
        "    LEFT JOIN enrollments ON students.student_id = enrollments.student_id\n",
        "    LEFT JOIN courses ON enrollments.course_id = courses.course_id\n",
        "\n",
        "    UNION ALL\n",
        "\n",
        "    SELECT students.first_name AS student_name, courses.course_name\n",
        "    FROM courses\n",
        "    LEFT JOIN enrollments ON courses.course_id = enrollments.course_id\n",
        "    LEFT JOIN students ON enrollments.student_id = students.student_id\n",
        "    WHERE students.student_id IS NULL\n",
        ")\n",
        "\n",
        "SELECT * FROM full_join;\n",
        "\"\"\"\n",
        "\n",
        "# Import the pandas library\n",
        "import pandas as pd\n",
        "\n",
        "# Read the query result into a DataFrame\n",
        "full_join_df_1 = pd.read_sql_query(full_join_query_1, conn)\n",
        "\n",
        "# Print the DataFrame\n",
        "print(full_join_df_1)\n",
        "\n",
        "# Close the database connection\n",
        "conn.close()\n"
      ],
      "metadata": {
        "colab": {
          "base_uri": "https://localhost:8080/"
        },
        "id": "wFADWKyA98_I",
        "outputId": "cfecfe88-0f77-481e-8075-69b764baa7cc"
      },
      "execution_count": 11,
      "outputs": [
        {
          "output_type": "stream",
          "name": "stdout",
          "text": [
            "  student_name        course_name\n",
            "0         John   Database Systems\n",
            "1         John    Data Structures\n",
            "2         Jane     Linear Algebra\n",
            "3         Mike  Quantum Mechanics\n"
          ]
        }
      ]
    },
    {
      "cell_type": "code",
      "source": [
        "# Reconnect to the SQLite database\n",
        "conn = sqlite3.connect('university.db')\n",
        "\n",
        "# Define the aggregate function query\n",
        "agg_function_example_1 = \"\"\"\n",
        "SELECT departments.department_name, COUNT(DISTINCT instructors.instructor_id) AS instructor_count\n",
        "FROM departments\n",
        "LEFT JOIN instructors ON departments.department_id = instructors.department_id\n",
        "GROUP BY departments.department_name;\n",
        "\"\"\"\n",
        "\n",
        "# Import the pandas library\n",
        "import pandas as pd\n",
        "\n",
        "# Read the query result into a DataFrame\n",
        "agg_df_1 = pd.read_sql_query(agg_function_example_1, conn)\n",
        "\n",
        "# Print the DataFrame\n",
        "print(agg_df_1)\n",
        "\n",
        "# Close the database connection\n",
        "conn.close()\n"
      ],
      "metadata": {
        "colab": {
          "base_uri": "https://localhost:8080/"
        },
        "id": "FEfESRgLEABP",
        "outputId": "b94ec3ef-d88d-41d1-9580-a5c6aeb7f448"
      },
      "execution_count": 12,
      "outputs": [
        {
          "output_type": "stream",
          "name": "stdout",
          "text": [
            "    department_name  instructor_count\n",
            "0         Chemistry                 1\n",
            "1  Computer Science                 1\n",
            "2       Mathematics                 1\n",
            "3           Physics                 1\n"
          ]
        }
      ]
    },
    {
      "cell_type": "code",
      "source": [
        "conn = sqlite3.connect('university.db')\n",
        "\n",
        "# Define the aggregate function query\n",
        "agg_function_example_2 = \"\"\"\n",
        "SELECT courses.course_name, COUNT(DISTINCT enrollments.student_id) AS student_count\n",
        "FROM courses\n",
        "LEFT JOIN enrollments ON courses.course_id = enrollments.course_id\n",
        "GROUP BY courses.course_name\n",
        "HAVING student_count > 0;\n",
        "\"\"\"\n",
        "\n",
        "# Read the query result into a DataFrame\n",
        "agg_df_2 = pd.read_sql_query(agg_function_example_2, conn)\n",
        "\n",
        "# Print the DataFrame\n",
        "print(agg_df_2)\n",
        "\n",
        "conn.close()"
      ],
      "metadata": {
        "colab": {
          "base_uri": "https://localhost:8080/"
        },
        "id": "oTGDN_3aEtQY",
        "outputId": "c75ba9a7-653a-4502-90d2-b6f2c3491d89"
      },
      "execution_count": 15,
      "outputs": [
        {
          "output_type": "stream",
          "name": "stdout",
          "text": [
            "         course_name  student_count\n",
            "0    Data Structures              1\n",
            "1   Database Systems              1\n",
            "2     Linear Algebra              1\n",
            "3  Quantum Mechanics              1\n"
          ]
        }
      ]
    },
    {
      "cell_type": "code",
      "source": [
        "import sqlite3\n",
        "import pandas as pd\n",
        "\n",
        "# Connect to the SQLite database\n",
        "conn = sqlite3.connect('university.db')\n",
        "\n",
        "# Define the SQL query to determine the number of courses in each department\n",
        "num_cor_dep = \"\"\"\n",
        "SELECT departments.department_id, departments.department_name, COUNT(courses.course_name) AS course_count\n",
        "FROM departments\n",
        "JOIN courses ON departments.department_id = courses.department_id\n",
        "GROUP BY departments.department_id;\n",
        "\"\"\"\n",
        "\n",
        "# Read the query result into a DataFrame\n",
        "num_cor_df = pd.read_sql_query(num_cor_dep, conn)\n",
        "\n",
        "# Print the DataFrame\n",
        "print(num_cor_df)\n",
        "\n",
        "# Close the database connection\n",
        "conn.close()\n"
      ],
      "metadata": {
        "colab": {
          "base_uri": "https://localhost:8080/"
        },
        "id": "zeUz9IvwFioT",
        "outputId": "f79e6099-e250-4efc-f661-9fd0a0801403"
      },
      "execution_count": 19,
      "outputs": [
        {
          "output_type": "stream",
          "name": "stdout",
          "text": [
            "   department_id   department_name  course_count\n",
            "0              1  Computer Science             2\n",
            "1              2       Mathematics             1\n",
            "2              3           Physics             1\n"
          ]
        }
      ]
    },
    {
      "cell_type": "code",
      "source": [
        "import sqlite3\n",
        "import pandas as pd\n",
        "\n",
        "# Connect to the SQLite database\n",
        "conn = sqlite3.connect('university.db')\n",
        "\n",
        "# Define the SQL query to determine the number of courses in each department\n",
        "num_inst_dep = \"\"\"\n",
        "SELECT departments.department_id, departments.department_name, COUNT(DISTINCT instructors.first_name) AS instructor_count\n",
        "FROM departments\n",
        "JOIN instructors ON departments.department_id = instructors.department_id\n",
        "GROUP BY departments.department_id;\n",
        "\"\"\"\n",
        "\n",
        "# Read the query result into a DataFrame\n",
        "num_inst_df = pd.read_sql_query(num_inst_dep, conn)\n",
        "\n",
        "# Print the DataFrame\n",
        "print(num_inst_df)\n",
        "\n",
        "# Close the database connection\n",
        "conn.close()\n"
      ],
      "metadata": {
        "colab": {
          "base_uri": "https://localhost:8080/"
        },
        "id": "vde3-QSBW6Z3",
        "outputId": "78fd2699-4a1b-4b4e-b084-17a592580db8"
      },
      "execution_count": 27,
      "outputs": [
        {
          "output_type": "stream",
          "name": "stdout",
          "text": [
            "   department_id   department_name  instructor_count\n",
            "0              1  Computer Science                 1\n",
            "1              2       Mathematics                 1\n",
            "2              3           Physics                 1\n",
            "3              4         Chemistry                 1\n"
          ]
        }
      ]
    },
    {
      "cell_type": "code",
      "source": [
        "# Connect to the SQLite database\n",
        "conn = sqlite3.connect('university.db')\n",
        "\n",
        "num_student_per_dep = \"\"\"\n",
        "SELECT d.department_id, d.department_name, COUNT(e.student_id) AS number_students\n",
        "FROM departments d\n",
        "JOIN courses c ON d.department_id = c.department_id\n",
        "JOIN enrollments e ON c.course_id = e.course_id\n",
        "GROUP BY d.department_id;\n",
        "\"\"\"\n",
        "num_student = pd.read_sql_query(num_student_per_dep, conn)\n",
        "\n",
        "print(num_student)"
      ],
      "metadata": {
        "colab": {
          "base_uri": "https://localhost:8080/"
        },
        "id": "toeUu7IKgIlQ",
        "outputId": "8cb0a8e3-c021-4c9b-e593-70e4c8c15687"
      },
      "execution_count": 33,
      "outputs": [
        {
          "output_type": "stream",
          "name": "stdout",
          "text": [
            "   department_id   department_name  number_students\n",
            "0              1  Computer Science                4\n",
            "1              2       Mathematics                2\n",
            "2              3           Physics                2\n"
          ]
        }
      ]
    },
    {
      "cell_type": "code",
      "source": [],
      "metadata": {
        "id": "85fCfwQyich9"
      },
      "execution_count": null,
      "outputs": []
    }
  ]
}