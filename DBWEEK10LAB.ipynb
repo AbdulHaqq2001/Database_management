{
  "nbformat": 4,
  "nbformat_minor": 0,
  "metadata": {
    "colab": {
      "provenance": [],
      "authorship_tag": "ABX9TyNZ88Ye0x/mIEKLTodsY7lt",
      "include_colab_link": true
    },
    "kernelspec": {
      "name": "python3",
      "display_name": "Python 3"
    },
    "language_info": {
      "name": "python"
    }
  },
  "cells": [
    {
      "cell_type": "markdown",
      "metadata": {
        "id": "view-in-github",
        "colab_type": "text"
      },
      "source": [
        "<a href=\"https://colab.research.google.com/github/AbdulHaqq2001/Database_management/blob/main/DBWEEK10LAB.ipynb\" target=\"_parent\"><img src=\"https://colab.research.google.com/assets/colab-badge.svg\" alt=\"Open In Colab\"/></a>"
      ]
    },
    {
      "cell_type": "code",
      "execution_count": 1,
      "metadata": {
        "id": "qxhz-Jyd-6ZV"
      },
      "outputs": [],
      "source": [
        "import sqlite3\n",
        "from employee import Employee"
      ]
    },
    {
      "cell_type": "code",
      "source": [
        "\n",
        "\n",
        "conn = sqlite3.connect(':memory:')\n",
        "c = conn.cursor()\n",
        "c.execute(\"CREATE TABLE employees (first TEXT, last TEXT, pay INTEGER)\")\n",
        "\n",
        "def insert_emp(emp):\n",
        "    with conn:\n",
        "        c.execute(\"INSERT INTO employees VALUES (:first, :last, :pay)\",\n",
        "                  {'first': emp.first, 'last': emp.last, 'pay': emp.pay})\n",
        "\n",
        "def get_emps_by_name(lastname):\n",
        "    c.execute(\"SELECT * FROM employees WHERE last=:last\", {'last': lastname})\n",
        "    return c.fetchall()\n",
        "\n",
        "def get_all_emps():\n",
        "    c.execute(\"SELECT * FROM employees\")\n",
        "    return c.fetchall()\n",
        "\n",
        "def delete_all_emps():\n",
        "    c.execute(\"DELETE FROM employees\")\n",
        "    return c.fetchall()\n",
        "\n",
        "def update_pay(emp, pay):\n",
        "    with conn:\n",
        "        c.execute(\"UPDATE employees SET pay = :pay WHERE first = :first AND last = :last\",\n",
        "                  {'first': emp.first, 'last': emp.last, 'pay': pay})\n",
        "        return c.fetchall()\n",
        "\n",
        "def remove_emp(emp):\n",
        "    with conn:\n",
        "        c.execute(\"DELETE FROM employees WHERE first = :first AND last = :last\",\n",
        "                  {'first': emp.first, 'last': emp.last})\n",
        "# Create Employee objects\n",
        "emp1 = Employee('John', 'Doe', 80000)\n",
        "emp2 = Employee('Jane', 'Doe', 90000)\n",
        "emp3 = Employee('Jane', 'Lee', 190000)\n",
        "emp4 = Employee('Yuna', 'Kim', 190000)\n",
        "\n",
        "# Insert employees into the database\n",
        "insert_emp(emp1)\n",
        "insert_emp(emp2)\n",
        "insert_emp(emp3)\n",
        "insert_emp(emp4)\n",
        "\n",
        "# Get employees by last name\n",
        "emps = get_emps_by_name('Doe')\n",
        "print(emps)\n",
        "\n",
        "emps1 = get_emps_by_name('Lee')\n",
        "print(emps1)\n",
        "# Update employee pay\n",
        "update_pay(emp2, 95000)\n",
        "\n",
        "# Remove an employee\n",
        "remove_emp(emp1)\n",
        "\n",
        "# Get employees by last name after removal\n",
        "emps = get_emps_by_name('Doe')\n",
        "print(emps)\n",
        "\n",
        "# Get all employees\n",
        "all_emps = get_all_emps()\n",
        "print(all_emps)\n",
        "\n",
        "# Delete all employees\n",
        "delete_all_emps()\n",
        "\n",
        "# Get all employees after deletion\n",
        "all_emps = get_all_emps()\n",
        "print(all_emps)\n",
        "\n",
        "conn.close()\n"
      ],
      "metadata": {
        "colab": {
          "base_uri": "https://localhost:8080/"
        },
        "id": "3RHQRW5DBnhl",
        "outputId": "e8e53451-2d2d-40bf-e332-3d09c07fb7e7"
      },
      "execution_count": 2,
      "outputs": [
        {
          "output_type": "stream",
          "name": "stdout",
          "text": [
            "[('John', 'Doe', 80000), ('Jane', 'Doe', 90000)]\n",
            "[('Jane', 'Lee', 190000)]\n",
            "[('Jane', 'Doe', 95000)]\n",
            "[('Jane', 'Doe', 95000), ('Jane', 'Lee', 190000), ('Yuna', 'Kim', 190000)]\n",
            "[]\n"
          ]
        }
      ]
    },
    {
      "cell_type": "code",
      "source": [],
      "metadata": {
        "id": "nmv2xRJ7DVqF"
      },
      "execution_count": null,
      "outputs": []
    }
  ]
}