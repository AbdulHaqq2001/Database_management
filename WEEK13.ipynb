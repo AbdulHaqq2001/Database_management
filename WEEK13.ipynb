{
  "nbformat": 4,
  "nbformat_minor": 0,
  "metadata": {
    "colab": {
      "provenance": [],
      "authorship_tag": "ABX9TyMP8IoLKNNzC3uIEqAlJG06",
      "include_colab_link": true
    },
    "kernelspec": {
      "name": "python3",
      "display_name": "Python 3"
    },
    "language_info": {
      "name": "python"
    }
  },
  "cells": [
    {
      "cell_type": "markdown",
      "metadata": {
        "id": "view-in-github",
        "colab_type": "text"
      },
      "source": [
        "<a href=\"https://colab.research.google.com/github/AbdulHaqq2001/Database_management/blob/main/WEEK13.ipynb\" target=\"_parent\"><img src=\"https://colab.research.google.com/assets/colab-badge.svg\" alt=\"Open In Colab\"/></a>"
      ]
    },
    {
      "cell_type": "code",
      "execution_count": 1,
      "metadata": {
        "colab": {
          "base_uri": "https://localhost:8080/"
        },
        "id": "MLNBmBqfFMC2",
        "outputId": "3caa3143-e750-4c86-9dbb-d7ebd060a7fa"
      },
      "outputs": [
        {
          "output_type": "stream",
          "name": "stdout",
          "text": [
            "Query plan with index: [(1, 'Alice', 'HR', 70000), (3, 'Charlie', 'HR', 75000)]\n",
            "Query plan without index: [(1, 'Alice', 'HR', 70000), (3, 'Charlie', 'HR', 75000)]\n"
          ]
        }
      ],
      "source": [
        "import sqlite3\n",
        "\n",
        "# Connect to SQLite database\n",
        "conn = sqlite3.connect('example.db')\n",
        "c = conn.cursor()\n",
        "\n",
        "# Create a sample table\n",
        "c.execute('''CREATE TABLE IF NOT EXISTS employees (\n",
        "                id INTEGER PRIMARY KEY,\n",
        "                name TEXT,\n",
        "                department TEXT,\n",
        "                salary INTEGER)''')\n",
        "\n",
        "# Adding some sample data\n",
        "sample_data = [(1, 'Alice', 'HR', 70000),\n",
        "               (2, 'Bob', 'Engineering', 80000),\n",
        "               (3, 'Charlie', 'HR', 75000)]\n",
        "c.executemany('INSERT INTO employees VALUES (?,?,?,?)', sample_data)\n",
        "\n",
        "# Creating an index\n",
        "c.execute('CREATE INDEX idx_department ON employees (department)')\n",
        "\n",
        "# Querying with the index\n",
        "c.execute('SELECT * FROM employees WHERE department = \"HR\"')\n",
        "print(\"Query plan with index:\", c.fetchall())\n",
        "\n",
        "# Drop the index\n",
        "c.execute('DROP INDEX idx_department')\n",
        "\n",
        "# Querying without the index\n",
        "c.execute('SELECT * FROM employees WHERE department = \"HR\"')\n",
        "print(\"Query plan without index:\", c.fetchall())\n",
        "\n",
        "# Cleanup\n",
        "conn.commit()\n",
        "conn.close()\n"
      ]
    },
    {
      "cell_type": "code",
      "source": [
        "import sqlite3\n",
        "\n",
        "# Connect to SQLite database\n",
        "conn = sqlite3.connect('example.db')\n",
        "c = conn.cursor()\n",
        "\n",
        "# Create a sample table\n",
        "c.execute('''CREATE TABLE IF NOT EXISTS employees (\n",
        "                id INTEGER PRIMARY KEY,\n",
        "                name TEXT,\n",
        "                department TEXT,\n",
        "                salary INTEGER)''')\n",
        "\n",
        "# Clear the table before inserting new data\n",
        "c.execute('DELETE FROM employees')\n",
        "\n",
        "# Adding some sample data\n",
        "sample_data = [(1, 'Alice', 'HR', 70000),\n",
        "               (2, 'Bob', 'Engineering', 80000),\n",
        "               (3, 'Charlie', 'HR', 75000)]\n",
        "c.executemany('INSERT INTO employees VALUES (?,?,?,?)', sample_data)\n",
        "\n",
        "# Creating an index\n",
        "c.execute('CREATE INDEX idx_department ON employees (department)')\n",
        "\n",
        "# Querying with the index\n",
        "c.execute('SELECT * FROM employees WHERE department = \"HR\"')\n",
        "print(\"Query plan with index:\", c.fetchall())\n",
        "\n",
        "# Drop the index\n",
        "c.execute('DROP INDEX idx_department')\n",
        "\n",
        "# Querying without the index\n",
        "c.execute('SELECT * FROM employees WHERE department = \"HR\"')\n",
        "print(\"Query plan without index:\", c.fetchall())\n",
        "\n",
        "# Cleanup\n",
        "conn.commit()\n",
        "conn.close()\n"
      ],
      "metadata": {
        "colab": {
          "base_uri": "https://localhost:8080/"
        },
        "id": "lIkWRaPHHPC1",
        "outputId": "61fb6718-7033-46cf-d0d8-6c38d5e2cefa"
      },
      "execution_count": 3,
      "outputs": [
        {
          "output_type": "stream",
          "name": "stdout",
          "text": [
            "Query plan with index: [(1, 'Alice', 'HR', 70000), (3, 'Charlie', 'HR', 75000)]\n",
            "Query plan without index: [(1, 'Alice', 'HR', 70000), (3, 'Charlie', 'HR', 75000)]\n"
          ]
        }
      ]
    }
  ]
}