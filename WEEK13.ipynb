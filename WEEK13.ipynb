{
  "nbformat": 4,
  "nbformat_minor": 0,
  "metadata": {
    "colab": {
      "provenance": [],
      "authorship_tag": "ABX9TyOgLWJskgmpqfYwmHbKKBpe",
      "include_colab_link": true
    },
    "kernelspec": {
      "name": "python3",
      "display_name": "Python 3"
    },
    "language_info": {
      "name": "python"
    }
  },
  "cells": [
    {
      "cell_type": "markdown",
      "metadata": {
        "id": "view-in-github",
        "colab_type": "text"
      },
      "source": [
        "<a href=\"https://colab.research.google.com/github/AbdulHaqq2001/Database_management/blob/main/WEEK13.ipynb\" target=\"_parent\"><img src=\"https://colab.research.google.com/assets/colab-badge.svg\" alt=\"Open In Colab\"/></a>"
      ]
    },
    {
      "cell_type": "code",
      "execution_count": 1,
      "metadata": {
        "colab": {
          "base_uri": "https://localhost:8080/"
        },
        "id": "MLNBmBqfFMC2",
        "outputId": "3caa3143-e750-4c86-9dbb-d7ebd060a7fa"
      },
      "outputs": [
        {
          "output_type": "stream",
          "name": "stdout",
          "text": [
            "Query plan with index: [(1, 'Alice', 'HR', 70000), (3, 'Charlie', 'HR', 75000)]\n",
            "Query plan without index: [(1, 'Alice', 'HR', 70000), (3, 'Charlie', 'HR', 75000)]\n"
          ]
        }
      ],
      "source": [
        "import sqlite3\n",
        "\n",
        "# Connect to SQLite database\n",
        "conn = sqlite3.connect('example.db')\n",
        "c = conn.cursor()\n",
        "\n",
        "# Create a sample table\n",
        "c.execute('''CREATE TABLE IF NOT EXISTS employees (\n",
        "                id INTEGER PRIMARY KEY,\n",
        "                name TEXT,\n",
        "                department TEXT,\n",
        "                salary INTEGER)''')\n",
        "\n",
        "# Adding some sample data\n",
        "sample_data = [(1, 'Alice', 'HR', 70000),\n",
        "               (2, 'Bob', 'Engineering', 80000),\n",
        "               (3, 'Charlie', 'HR', 75000)]\n",
        "c.executemany('INSERT INTO employees VALUES (?,?,?,?)', sample_data)\n",
        "\n",
        "# Creating an index\n",
        "c.execute('CREATE INDEX idx_department ON employees (department)')\n",
        "\n",
        "# Querying with the index\n",
        "c.execute('SELECT * FROM employees WHERE department = \"HR\"')\n",
        "print(\"Query plan with index:\", c.fetchall())\n",
        "\n",
        "# Drop the index\n",
        "c.execute('DROP INDEX idx_department')\n",
        "\n",
        "# Querying without the index\n",
        "c.execute('SELECT * FROM employees WHERE department = \"HR\"')\n",
        "print(\"Query plan without index:\", c.fetchall())\n",
        "\n",
        "# Cleanup\n",
        "conn.commit()\n",
        "conn.close()\n"
      ]
    },
    {
      "cell_type": "code",
      "source": [
        "import sqlite3\n",
        "\n",
        "# Connect to SQLite database\n",
        "conn = sqlite3.connect('example.db')\n",
        "c = conn.cursor()\n",
        "\n",
        "# Create a sample table\n",
        "c.execute('''CREATE TABLE IF NOT EXISTS employees (\n",
        "                id INTEGER PRIMARY KEY,\n",
        "                name TEXT,\n",
        "                department TEXT,\n",
        "                salary INTEGER)''')\n",
        "\n",
        "# Clear the table before inserting new data\n",
        "c.execute('DELETE FROM employees')\n",
        "\n",
        "# Adding some sample data\n",
        "sample_data = [(1, 'Alice', 'HR', 70000),\n",
        "               (2, 'Bob', 'Engineering', 80000),\n",
        "               (3, 'Charlie', 'HR', 75000)]\n",
        "c.executemany('INSERT INTO employees VALUES (?,?,?,?)', sample_data)\n",
        "\n",
        "# Creating an index\n",
        "c.execute('CREATE INDEX idx_department ON employees (department)')\n",
        "\n",
        "# Querying with the index\n",
        "c.execute('SELECT * FROM employees WHERE department = \"HR\"')\n",
        "print(\"Query plan with index:\", c.fetchall())\n",
        "\n",
        "# Drop the index\n",
        "c.execute('DROP INDEX idx_department')\n",
        "\n",
        "# Querying without the index\n",
        "c.execute('SELECT * FROM employees WHERE department = \"HR\"')\n",
        "print(\"Query plan without index:\", c.fetchall())\n",
        "\n",
        "# Cleanup\n",
        "conn.commit()\n",
        "conn.close()\n"
      ],
      "metadata": {
        "colab": {
          "base_uri": "https://localhost:8080/"
        },
        "id": "lIkWRaPHHPC1",
        "outputId": "61fb6718-7033-46cf-d0d8-6c38d5e2cefa"
      },
      "execution_count": 3,
      "outputs": [
        {
          "output_type": "stream",
          "name": "stdout",
          "text": [
            "Query plan with index: [(1, 'Alice', 'HR', 70000), (3, 'Charlie', 'HR', 75000)]\n",
            "Query plan without index: [(1, 'Alice', 'HR', 70000), (3, 'Charlie', 'HR', 75000)]\n"
          ]
        }
      ]
    },
    {
      "cell_type": "code",
      "source": [
        "import sqlite3\n",
        "\n",
        "# Connect to SQLite database\n",
        "conn = sqlite3.connect('example.db')\n",
        "c = conn.cursor()\n",
        "\n",
        "# Create a sample table\n",
        "c.execute('CREATE TABLE IF NOT EXISTS orders (id INTEGER PRIMARY KEY, product_id INTEGER, quantity INTEGER)')\n",
        "\n",
        "# Transaction optimization example\n",
        "# Start a transaction\n",
        "conn.execute('BEGIN TRANSACTION')\n",
        "\n",
        "# Bulk insert data\n",
        "bulk_data = [(i, i % 5 + 1, i * 2) for i in range(1, 1001)]\n",
        "c.executemany('INSERT INTO orders VALUES (?,?,?)', bulk_data)\n",
        "\n",
        "# Commit the transaction\n",
        "conn.commit()\n",
        "\n",
        "# Query to verify data insertion\n",
        "c.execute('SELECT COUNT(*) FROM orders')\n",
        "print(\"Number of records inserted:\", c.fetchone()[0])\n",
        "\n",
        "# Cleanup\n",
        "conn.close()\n"
      ],
      "metadata": {
        "colab": {
          "base_uri": "https://localhost:8080/"
        },
        "id": "ysp26KRdQ6PN",
        "outputId": "302fbee4-4371-41af-b0ef-11d27bb69c91"
      },
      "execution_count": 6,
      "outputs": [
        {
          "output_type": "stream",
          "name": "stdout",
          "text": [
            "Number of records inserted: 1000\n"
          ]
        }
      ]
    },
    {
      "cell_type": "code",
      "source": [
        "import sqlite3\n",
        "\n",
        "# Connect to SQLite database\n",
        "conn = sqlite3.connect('example.db')\n",
        "c = conn.cursor()\n",
        "\n",
        "# Create sample tables\n",
        "c.execute('CREATE TABLE IF NOT EXISTS students (id INTEGER PRIMARY KEY, name TEXT, class_id INTEGER)')\n",
        "c.execute('CREATE TABLE IF NOT EXISTS classes (id INTEGER PRIMARY KEY, class_name TEXT)')\n",
        "\n",
        "# Adding some sample data\n",
        "students_data = [(1, 'John', 1), (2, 'Emma', 2), (3, 'Harry', 1)]\n",
        "classes_data = [(1, 'Math'), (2, 'Science')]\n",
        "c.executemany('INSERT INTO students VALUES (?,?,?)', students_data)\n",
        "c.executemany('INSERT INTO classes VALUES (?,?)', classes_data)\n",
        "\n",
        "# Efficient Joins example\n",
        "# Description: This example demonstrates how to perform an efficient join between two tables.\n",
        "\n",
        "# Efficient join query\n",
        "c.execute('SELECT students.name, classes.class_name FROM students JOIN classes ON students.class_id = classes.id')\n",
        "print(\"Join results:\", c.fetchall())\n",
        "\n",
        "# Cleanup\n",
        "conn.commit()\n",
        "conn.close()\n"
      ],
      "metadata": {
        "colab": {
          "base_uri": "https://localhost:8080/"
        },
        "id": "yAgmpbzHRVpD",
        "outputId": "1706c02a-d285-463c-9071-ad8f05e28a22"
      },
      "execution_count": 7,
      "outputs": [
        {
          "output_type": "stream",
          "name": "stdout",
          "text": [
            "Join results: [('John', 'Math'), ('Emma', 'Science'), ('Harry', 'Math')]\n"
          ]
        }
      ]
    },
    {
      "cell_type": "code",
      "source": [
        "import sqlite3\n",
        "\n",
        "# Connect to SQLite database\n",
        "conn = sqlite3.connect('example.db')\n",
        "c = conn.cursor()\n",
        "\n",
        "# Advanced PRAGMA Optimization Example\n",
        "# 1. Setting the journal mode to WAL (Write-Ahead Logging)\n",
        "c.execute('PRAGMA journal_mode=WAL')\n",
        "journal_mode = c.fetchone()[0]\n",
        "print(\"Journal mode set to:\", journal_mode)\n",
        "\n",
        "# 2. Enabling foreign key constraints\n",
        "c.execute('PRAGMA foreign_keys=ON')\n",
        "c.execute('PRAGMA foreign_keys')\n",
        "fk_status = c.fetchone()[0]\n",
        "print(\"Foreign keys status:\", \"Enabled\" if fk_status else \"Disabled\")\n",
        "\n",
        "# 3. Setting synchronous mode to NORMAL\n",
        "c.execute('PRAGMA synchronous=NORMAL')\n",
        "c.execute('PRAGMA synchronous')\n",
        "sync_mode = c.fetchone()[0]\n",
        "print(\"Synchronous mode set to:\", sync_mode)\n",
        "\n",
        "# 4. Adjusting cache size\n",
        "c.execute('PRAGMA cache_size=10000')\n",
        "c.execute('PRAGMA cache_size')\n",
        "cache_size = c.fetchone()[0]\n",
        "print(\"Cache size set to:\", cache_size, \"pages\")\n",
        "\n",
        "# 5. Querying the database file size\n",
        "c.execute('PRAGMA page_size')\n",
        "page_size = c.fetchone()[0]\n",
        "c.execute('PRAGMA page_count')\n",
        "page_count = c.fetchone()[0]\n",
        "db_size = page_size * page_count\n",
        "print(\"Database size:\", db_size, \"bytes\")\n",
        "\n",
        "# Cleanup\n",
        "conn.close()\n"
      ],
      "metadata": {
        "colab": {
          "base_uri": "https://localhost:8080/"
        },
        "id": "dyoB39NYSEe-",
        "outputId": "762934e3-17d3-49dd-c8ff-9cd493784e31"
      },
      "execution_count": 8,
      "outputs": [
        {
          "output_type": "stream",
          "name": "stdout",
          "text": [
            "Journal mode set to: wal\n",
            "Foreign keys status: Enabled\n",
            "Synchronous mode set to: 1\n",
            "Cache size set to: 10000 pages\n",
            "Database size: 32768 bytes\n"
          ]
        }
      ]
    }
  ]
}