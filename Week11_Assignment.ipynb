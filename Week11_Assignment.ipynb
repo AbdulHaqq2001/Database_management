{
  "nbformat": 4,
  "nbformat_minor": 0,
  "metadata": {
    "colab": {
      "provenance": [],
      "authorship_tag": "ABX9TyP9C00aRk5y/BW5Cv4R8N5v",
      "include_colab_link": true
    },
    "kernelspec": {
      "name": "python3",
      "display_name": "Python 3"
    },
    "language_info": {
      "name": "python"
    }
  },
  "cells": [
    {
      "cell_type": "markdown",
      "metadata": {
        "id": "view-in-github",
        "colab_type": "text"
      },
      "source": [
        "<a href=\"https://colab.research.google.com/github/AbdulHaqq2001/Database_management/blob/main/Week11_Assignment.ipynb\" target=\"_parent\"><img src=\"https://colab.research.google.com/assets/colab-badge.svg\" alt=\"Open In Colab\"/></a>"
      ]
    },
    {
      "cell_type": "code",
      "execution_count": 1,
      "metadata": {
        "colab": {
          "base_uri": "https://localhost:8080/"
        },
        "id": "8pVEPpeJUZ37",
        "outputId": "2b47ae3f-fc69-49a5-95f0-325afdd699c9"
      },
      "outputs": [
        {
          "output_type": "stream",
          "name": "stdout",
          "text": [
            "Alice - Total Credits: 25, Status: Freshman\n",
            "Bob - Total Credits: 45, Status: Sophomore\n",
            "Charlie - Total Credits: 70, Status: Junior\n",
            "David - Total Credits: 100, Status: Senior\n",
            "Eva - Total Credits: 130, Status: Graduate\n"
          ]
        }
      ],
      "source": [
        "import sqlite3\n",
        "\n",
        "# Create a SQLite database in memory (you can change this to a file path if you want to persist the database)\n",
        "conn = sqlite3.connect(':memory:')\n",
        "cursor = conn.cursor()\n",
        "\n",
        "# Create the 'student' table\n",
        "cursor.execute('''\n",
        "    CREATE TABLE student (\n",
        "        id INTEGER PRIMARY KEY,\n",
        "        name TEXT,\n",
        "        tot_cred INTEGER\n",
        "    )\n",
        "''')\n",
        "\n",
        "# Insert sample data into the 'student' table\n",
        "sample_data = [\n",
        "    ('Alice', 25),\n",
        "    ('Bob', 45),\n",
        "    ('Charlie', 70),\n",
        "    ('David', 100),\n",
        "    ('Eva', 130),\n",
        "]\n",
        "\n",
        "cursor.executemany('INSERT INTO student (name, tot_cred) VALUES (?, ?)', sample_data)\n",
        "\n",
        "# Query the status of each student based on total credits\n",
        "cursor.execute('''\n",
        "    SELECT\n",
        "        name,\n",
        "        tot_cred,\n",
        "        CASE\n",
        "            WHEN tot_cred < 30 THEN 'Freshman'\n",
        "            WHEN tot_cred >= 30 AND tot_cred < 60 THEN 'Sophomore'\n",
        "            WHEN tot_cred >= 60 AND tot_cred <= 90 THEN 'Junior'\n",
        "            WHEN tot_cred >= 90 AND tot_cred <= 120 THEN 'Senior'\n",
        "            WHEN tot_cred > 120 THEN 'Graduate'\n",
        "        END AS status\n",
        "    FROM\n",
        "        student\n",
        "''')\n",
        "\n",
        "# Fetch and print the results\n",
        "results = cursor.fetchall()\n",
        "for row in results:\n",
        "    print(f\"{row[0]} - Total Credits: {row[1]}, Status: {row[2]}\")\n",
        "\n",
        "# Close the connection\n",
        "conn.close()\n"
      ]
    },
    {
      "cell_type": "code",
      "source": [
        "import sqlite3\n",
        "\n",
        "# Create a SQLite database in memory (you can change this to a file path if you want to persist the database)\n",
        "conn = sqlite3.connect(':memory:')\n",
        "cursor = conn.cursor()\n",
        "\n",
        "# Create the 'student' table\n",
        "cursor.execute('''\n",
        "    CREATE TABLE student (\n",
        "        id INTEGER PRIMARY KEY,\n",
        "        name TEXT,\n",
        "        dept_name TEXT,\n",
        "        tot_cred INTEGER\n",
        "    )\n",
        "''')\n",
        "\n",
        "# Insert sample data into the 'student' table\n",
        "sample_data = [\n",
        "    (1, 'Alice', 'Computer Science', 25),\n",
        "    (2, 'Bob', 'Mathematics', 45),\n",
        "    (3, 'Charlie', 'Physics', 70),\n",
        "    (4, 'David', 'Biology', 100),\n",
        "    (5, 'Eva', 'Chemistry', 130),\n",
        "]\n",
        "\n",
        "cursor.executemany('INSERT INTO student (id, name, dept_name, tot_cred) VALUES (?, ?, ?, ?)', sample_data)\n",
        "\n",
        "# Query the number of students with each status\n",
        "cursor.execute('''\n",
        "    SELECT\n",
        "        CASE\n",
        "            WHEN tot_cred < 30 THEN 'Freshman'\n",
        "            WHEN tot_cred >= 30 AND tot_cred < 60 THEN 'Sophomore'\n",
        "            WHEN tot_cred >= 60 AND tot_cred < 90 THEN 'Junior'\n",
        "            WHEN tot_cred >= 90 AND tot_cred < 120 THEN 'Senior'\n",
        "            WHEN tot_cred >= 120 THEN 'Graduate'\n",
        "        END AS status,\n",
        "        COUNT(*) AS num_students\n",
        "    FROM\n",
        "        student\n",
        "    GROUP BY\n",
        "        status\n",
        "''')\n",
        "\n",
        "# Fetch and print the results\n",
        "results = cursor.fetchall()\n",
        "for row in results:\n",
        "    print(f\"Status: {row[0]}, Number of Students: {row[1]}\")\n",
        "\n",
        "# Close the connection\n",
        "conn.close()\n"
      ],
      "metadata": {
        "colab": {
          "base_uri": "https://localhost:8080/"
        },
        "id": "lkA6FSbzVbeV",
        "outputId": "be90e516-db66-4d63-ec59-b8fe302a6f71"
      },
      "execution_count": 2,
      "outputs": [
        {
          "output_type": "stream",
          "name": "stdout",
          "text": [
            "Status: Freshman, Number of Students: 1\n",
            "Status: Graduate, Number of Students: 1\n",
            "Status: Junior, Number of Students: 1\n",
            "Status: Senior, Number of Students: 1\n",
            "Status: Sophomore, Number of Students: 1\n"
          ]
        }
      ]
    },
    {
      "cell_type": "code",
      "source": [
        "import sqlite3\n",
        "\n",
        "# Create a SQLite database in memory (you can change this to a file path if you want to persist the database)\n",
        "conn = sqlite3.connect(':memory:')\n",
        "cursor = conn.cursor()\n",
        "\n",
        "# Create the 'courses' table\n",
        "cursor.execute('''\n",
        "    CREATE TABLE courses (\n",
        "        student_id INTEGER,\n",
        "        course_name TEXT,\n",
        "        grade TEXT,\n",
        "        credits INTEGER\n",
        "    )\n",
        "''')\n",
        "\n",
        "# Insert sample data into the 'courses' table\n",
        "sample_data = [\n",
        "    (1, 'Math', 'A', 3),\n",
        "    (1, 'Physics', 'B+', 4),\n",
        "    (2, 'Chemistry', 'A+', 3),\n",
        "    (2, 'Biology', 'B', 4),\n",
        "    (3, 'History', 'C', 3),\n",
        "    (3, 'English', 'A', 3),\n",
        "    # Add more sample data as needed\n",
        "]\n",
        "\n",
        "cursor.executemany('INSERT INTO courses (student_id, course_name, grade, credits) VALUES (?, ?, ?, ?)', sample_data)\n",
        "\n",
        "# Question 1: Calculate the GPA for each student who has taken any course in 2008, Spring semester\n",
        "cursor.execute('''\n",
        "    SELECT\n",
        "        student_id,\n",
        "        SUM(CASE\n",
        "            WHEN grade = 'A+' THEN 4.50 * credits\n",
        "            WHEN grade = 'A' THEN 4.00 * credits\n",
        "            WHEN grade = 'B+' THEN 3.50 * credits\n",
        "            WHEN grade = 'B' THEN 3.00 * credits\n",
        "            WHEN grade = 'C+' THEN 2.50 * credits\n",
        "            WHEN grade = 'C' THEN 2.00 * credits\n",
        "            WHEN grade = 'D+' THEN 1.50 * credits\n",
        "            WHEN grade = 'D' THEN 1.00 * credits\n",
        "            ELSE 0\n",
        "        END) / SUM(4.50 * credits) AS gpa\n",
        "    FROM\n",
        "        courses\n",
        "    GROUP BY\n",
        "        student_id\n",
        "''')\n",
        "\n",
        "# Fetch and print the results for Question 1\n",
        "gpa_results = cursor.fetchall()\n",
        "for row in gpa_results:\n",
        "    print(f\"Student ID: {row[0]}, GPA: {row[1]}\")\n",
        "\n",
        "# Question 2: Find the number of students according to category\n",
        "cursor.execute('''\n",
        "    SELECT\n",
        "        CASE\n",
        "            WHEN gpa BETWEEN 3.75 AND 4.50 THEN 'A'\n",
        "            WHEN gpa BETWEEN 3.00 AND 3.75 THEN 'B'\n",
        "            WHEN gpa BETWEEN 2.00 AND 3.00 THEN 'C'\n",
        "            WHEN gpa BETWEEN 1.50 AND 2.00 THEN 'D'\n",
        "            WHEN gpa < 1.50 THEN 'F'\n",
        "        END AS category,\n",
        "        COUNT(*) AS num_students\n",
        "    FROM (\n",
        "        SELECT\n",
        "            student_id,\n",
        "            SUM(CASE\n",
        "                WHEN grade = 'A+' THEN 4.50 * credits\n",
        "                WHEN grade = 'A' THEN 4.00 * credits\n",
        "                WHEN grade = 'B+' THEN 3.50 * credits\n",
        "                WHEN grade = 'B' THEN 3.00 * credits\n",
        "                WHEN grade = 'C+' THEN 2.50 * credits\n",
        "                WHEN grade = 'C' THEN 2.00 * credits\n",
        "                WHEN grade = 'D+' THEN 1.50 * credits\n",
        "                WHEN grade = 'D' THEN 1.00 * credits\n",
        "                ELSE 0\n",
        "            END) / SUM(4.50 * credits) AS gpa\n",
        "        FROM\n",
        "            courses\n",
        "        GROUP BY\n",
        "            student_id\n",
        "    ) AS student_gpa\n",
        "    GROUP BY\n",
        "        category\n",
        "''')\n",
        "\n",
        "# Fetch and print the results for Question 2\n",
        "category_results = cursor.fetchall()\n",
        "for row in category_results:\n",
        "    print(f\"Category: {row[0]}, Number of Students: {row[1]}\")\n",
        "\n",
        "# Close the connection\n",
        "conn.close()\n"
      ],
      "metadata": {
        "colab": {
          "base_uri": "https://localhost:8080/"
        },
        "id": "8u6iitspWA73",
        "outputId": "b8266815-7953-428b-9a8f-c0fe6c33c994"
      },
      "execution_count": 3,
      "outputs": [
        {
          "output_type": "stream",
          "name": "stdout",
          "text": [
            "Student ID: 1, GPA: 0.8253968253968254\n",
            "Student ID: 2, GPA: 0.8095238095238095\n",
            "Student ID: 3, GPA: 0.6666666666666666\n",
            "Category: F, Number of Students: 3\n"
          ]
        }
      ]
    },
    {
      "cell_type": "code",
      "source": [],
      "metadata": {
        "id": "coJvkICAWwB9"
      },
      "execution_count": null,
      "outputs": []
    }
  ]
}